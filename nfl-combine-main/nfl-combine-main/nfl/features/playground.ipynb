{
 "cells": [
  {
   "cell_type": "markdown",
   "metadata": {},
   "source": [
    "Welcome to the feature playground! In this notebook, you can interact with the three features in this model.\n",
    "\n",
    "Feature 1: Creates a correlation matrix, showing positive and negative correlations between Combine performance and Career performance. Select specific positions to receive different correlation matrixes. For example, if you only want to see the correlations for Quarterbacks, select \"QB.\"\n",
    "The following positions can be called:"
   ]
  },
  {
   "cell_type": "code",
   "execution_count": 18,
   "metadata": {},
   "outputs": [],
   "source": [
    "# List of positions\n",
    "positions = ['RB', 'K', 'TE', 'QB', 'WR', 'G', 'RG', 'FB', 'P', 'C', 'LCB', 'MLB', 'LB', 'T',\n",
    "             'WB', 'SS', 'DE', 'FS', 'DB', 'LT', 'S', 'DT', 'RCB', 'RDE', 'LDE', 'RE', 'RT', 'LLB',\n",
    "             'WR/QB', 'LDT', 'LG', 'NT', 'CB', 'DL', 'RLB', 'RT/LT', 'OL']"
   ]
  },
  {
   "cell_type": "markdown",
   "metadata": {},
   "source": [
    "Feature 2: Input player Combine statistics to predict career lifespan. Based on historical Combine Performance data and career data, our model will use predict how long this player's career will be.\n",
    "\n",
    "Feature 3: Input player Combine statistics to predict career lifespan. Based on historical Combine Performance data and career data, our model will use predict how strong this player's career will be. Fantasy PPR points are used as a normalized metric to represent player performance."
   ]
  },
  {
   "cell_type": "code",
   "execution_count": 19,
   "metadata": {},
   "outputs": [],
   "source": [
    "# Import necessary libraries\n",
    "import pandas as pd\n",
    "import matplotlib.pyplot as plt\n",
    "import seaborn as sns\n",
    "import ipywidgets as widgets\n",
    "from IPython.display import display\n",
    "from transform import transform_data\n",
    "from sklearn.linear_model import LinearRegression\n",
    "from sklearn.impute import SimpleImputer"
   ]
  },
  {
   "cell_type": "markdown",
   "metadata": {},
   "source": [
    "Feature 1: Correlation Matrix. Select a specific position (or select \"All\") to create your correlation matrix! Run the first cell, select your position, then run the remaining two cells. You will receive a correlation matrix of historical player data as well as how many players are included in the creation of the correlation matrix."
   ]
  },
  {
   "cell_type": "code",
   "execution_count": 21,
   "metadata": {},
   "outputs": [
    {
     "data": {
      "application/vnd.jupyter.widget-view+json": {
       "model_id": "62806bb0b75d4875970fbb8b8e96ee56",
       "version_major": 2,
       "version_minor": 0
      },
      "text/plain": [
       "Dropdown(description='Position:', options=('All', 'RB', 'K', 'TE', 'QB', 'WR', 'G', 'RG', 'FB', 'P', 'C', 'LCB…"
      ]
     },
     "metadata": {},
     "output_type": "display_data"
    }
   ],
   "source": [
    "# List of positions\n",
    "positions = ['All', 'RB', 'K', 'TE', 'QB', 'WR', 'G', 'RG', 'FB', 'P', 'C', 'LCB', 'MLB', 'LB', 'T',\n",
    "             'WB', 'SS', 'DE', 'FS', 'DB', 'LT', 'S', 'DT', 'RCB', 'RDE', 'LDE', 'RE', 'RT', 'LLB',\n",
    "             'WR/QB', 'LDT', 'LG', 'NT', 'CB', 'DL', 'RLB', 'RT/LT', 'OL']\n",
    "\n",
    "# Create a dropdown for selecting a position\n",
    "position_dropdown = widgets.Dropdown(\n",
    "    options=positions,\n",
    "    value='All',  # Default value\n",
    "    description='Position:',\n",
    "    disabled=False,\n",
    ")\n",
    "\n",
    "# Display the dropdown\n",
    "display(position_dropdown)"
   ]
  },
  {
   "cell_type": "code",
   "execution_count": 4,
   "metadata": {},
   "outputs": [],
   "source": [
    "def display_correlation_matrix(position):\n",
    "    # Load and filter data\n",
    "    merged_data = transform_data()\n",
    "    if position != 'All':\n",
    "        filtered_data = merged_data[merged_data['Position'] == position]\n",
    "    else:\n",
    "        filtered_data = merged_data\n",
    "    \n",
    "    # Drop irrelevant columns\n",
    "    filtered_data.drop(columns=['Pos', 'School', 'Position', 'Team', 'Player', 'DraftedTeam'], inplace=True)\n",
    "\n",
    "    # Display the number of players included\n",
    "    num_players = len(filtered_data)\n",
    "    print(f\"Number of players included in the correlation matrix for '{position}': {num_players}\")\n",
    "\n",
    "    # Compute the correlation matrix\n",
    "    corr_matrix = filtered_data.corr()\n",
    "\n",
    "    # Set up the matplotlib figure\n",
    "    plt.figure(figsize=(12, 10))\n",
    "\n",
    "    # Draw the heatmap\n",
    "    sns.heatmap(corr_matrix, annot=True, fmt=\".2f\", cmap='coolwarm')\n",
    "\n",
    "    # Show the plot\n",
    "    plt.show()"
   ]
  },
  {
   "cell_type": "code",
   "execution_count": 5,
   "metadata": {},
   "outputs": [
    {
     "data": {
      "application/vnd.jupyter.widget-view+json": {
       "model_id": "0289f73a498c408b9b25dee7d34b9771",
       "version_major": 2,
       "version_minor": 0
      },
      "text/plain": [
       "interactive(children=(Dropdown(description='Position:', options=('All', 'RB', 'K', 'TE', 'QB', 'WR', 'G', 'RG'…"
      ]
     },
     "execution_count": 5,
     "metadata": {},
     "output_type": "execute_result"
    }
   ],
   "source": [
    "# Link the dropdown to the display_correlation_matrix function\n",
    "widgets.interactive(display_correlation_matrix, position=position_dropdown)"
   ]
  },
  {
   "cell_type": "markdown",
   "metadata": {},
   "source": [
    "Features 2: Player Lifespan Caluclator"
   ]
  },
  {
   "cell_type": "code",
   "execution_count": 6,
   "metadata": {},
   "outputs": [],
   "source": [
    "import pandas as pd\n",
    "from transform import transform_data\n",
    "from sklearn.linear_model import LinearRegression\n",
    "from sklearn.model_selection import train_test_split\n",
    "from sklearn.metrics import mean_squared_error\n",
    "from sklearn.impute import SimpleImputer\n",
    "from sklearn.metrics import mean_squared_error, r2_score\n"
   ]
  },
  {
   "cell_type": "code",
   "execution_count": 7,
   "metadata": {},
   "outputs": [],
   "source": [
    "def filter_data():\n",
    "    merged_data = transform_data()\n",
    "    columns_to_drop = ['Pos', 'School', 'Position', 'Team', 'TotalFantasyPoints', 'TotalPprFantasyPoints', 'FantasyPointsPerGame',\n",
    "       'Player', 'DraftedTeam']\n",
    "    merged_data.drop(columns=columns_to_drop, inplace=True)\n",
    "    merged_data = merged_data[merged_data['LastSeason'] < 2023]\n",
    "    merged_data['YearsPlayed'] = merged_data['LastSeason'] - merged_data['FirstSeason']\n",
    "    return merged_data"
   ]
  },
  {
   "cell_type": "code",
   "execution_count": 8,
   "metadata": {},
   "outputs": [],
   "source": [
    "def train_model():\n",
    "    filtered_data = filter_data()\n",
    "    features = ['Wt', '40yd', 'Vertical', 'Bench', 'Broad Jump', '3Cone', 'Shuttle']\n",
    "    target = ['YearsPlayed']\n",
    "    \n",
    "    # Separate features and target variable\n",
    "    X = filtered_data[features]\n",
    "    y = filtered_data[target]\n",
    "    \n",
    "    # Handle missing values in features\n",
    "    imputer = SimpleImputer(strategy='mean')\n",
    "    X_imputed = imputer.fit_transform(X)\n",
    "    \n",
    "    # Split the data into training and testing sets\n",
    "    X_train, X_test, y_train, y_test = train_test_split(X_imputed, y, test_size=0.2, random_state=42)\n",
    "    \n",
    "    # Train the linear regression model\n",
    "    model = LinearRegression()\n",
    "    model.fit(X_train, y_train)\n",
    "    \n",
    "    return model, imputer"
   ]
  },
  {
   "cell_type": "code",
   "execution_count": 9,
   "metadata": {},
   "outputs": [],
   "source": [
    "model, imputer = train_model()"
   ]
  },
  {
   "cell_type": "markdown",
   "metadata": {},
   "source": [
    "Run the following cell and input the data for your player:"
   ]
  },
  {
   "cell_type": "code",
   "execution_count": 10,
   "metadata": {},
   "outputs": [
    {
     "data": {
      "application/vnd.jupyter.widget-view+json": {
       "model_id": "ee52eea50dbf4a3d8677b9d9efb9b684",
       "version_major": 2,
       "version_minor": 0
      },
      "text/plain": [
       "VBox(children=(FloatText(value=0.0, description='Weight (Wt):'), FloatText(value=0.0, description='40yd:'), Fl…"
      ]
     },
     "metadata": {},
     "output_type": "display_data"
    }
   ],
   "source": [
    "# Create widgets for player input features\n",
    "wt_input = widgets.FloatText(value=0, description='Weight (Wt):')\n",
    "yd40_input = widgets.FloatText(value=0, description='40yd:')\n",
    "vertical_input = widgets.FloatText(value=0, description='Vertical:')\n",
    "bench_input = widgets.FloatText(value=0, description='Bench:')\n",
    "broad_jump_input = widgets.FloatText(value=0, description='Broad Jump:')\n",
    "cone3_input = widgets.FloatText(value=0, description='3Cone:')\n",
    "shuttle_input = widgets.FloatText(value=0, description='Shuttle:')\n",
    "\n",
    "# Display the widgets\n",
    "input_widgets = widgets.VBox([wt_input, yd40_input, vertical_input, bench_input, broad_jump_input, cone3_input, shuttle_input])\n",
    "display(input_widgets)"
   ]
  },
  {
   "cell_type": "markdown",
   "metadata": {},
   "source": [
    "After inputting your player data, run the following cell to receive your prediction:"
   ]
  },
  {
   "cell_type": "code",
   "execution_count": 11,
   "metadata": {},
   "outputs": [
    {
     "name": "stdout",
     "output_type": "stream",
     "text": [
      "Predicted Years Played: [5.36792267]\n"
     ]
    }
   ],
   "source": [
    "\n",
    "def make_prediction():\n",
    "    input_stats = [wt_input.value, yd40_input.value, vertical_input.value, \n",
    "                   bench_input.value, broad_jump_input.value, cone3_input.value, shuttle_input.value]\n",
    "    \n",
    "    input_df = pd.DataFrame([input_stats], columns=['Wt', '40yd', 'Vertical', 'Bench', 'Broad Jump', '3Cone', 'Shuttle'])\n",
    "    \n",
    "    # Impute missing values\n",
    "    input_df_imputed = imputer.transform(input_df)\n",
    "\n",
    "    # Make predictions\n",
    "    predicted_years = model.predict(input_df_imputed)\n",
    "    \n",
    "    print(f\"Predicted Years Played: {predicted_years[0]}\")\n",
    "\n",
    "make_prediction()"
   ]
  },
  {
   "cell_type": "markdown",
   "metadata": {},
   "source": [
    "Feature 3: Player Performance Calculator (Average Fantasy PPR/Game)"
   ]
  },
  {
   "cell_type": "code",
   "execution_count": 12,
   "metadata": {},
   "outputs": [],
   "source": [
    "import pandas as pd\n",
    "import ipywidgets as widgets\n",
    "from IPython.display import display\n",
    "from sklearn.linear_model import LinearRegression\n",
    "from sklearn.impute import SimpleImputer"
   ]
  },
  {
   "cell_type": "code",
   "execution_count": 13,
   "metadata": {},
   "outputs": [],
   "source": [
    "def filter_data():\n",
    "    merged_data = transform_data()\n",
    "    columns_to_drop = ['Pos', 'School', 'Position', 'Team', 'TotalFantasyPoints', 'TotalPprFantasyPoints', 'FantasyPointsPerGame',\n",
    "       'Player', 'DraftedTeam']\n",
    "    merged_data.drop(columns=columns_to_drop, inplace=True)\n",
    "    merged_data = merged_data[merged_data['LastSeason'] < 2023]\n",
    "    merged_data['YearsPlayed'] = merged_data['LastSeason'] - merged_data['FirstSeason']\n",
    "    return merged_data"
   ]
  },
  {
   "cell_type": "code",
   "execution_count": 14,
   "metadata": {},
   "outputs": [],
   "source": [
    "def train_model():\n",
    "    filtered_data = filter_data()\n",
    "    features = ['Wt', '40yd', 'Vertical', 'Bench', 'Broad Jump', '3Cone', 'Shuttle']\n",
    "    target = ['PprFantasyPointsPerGame']\n",
    "    \n",
    "    # Separate features and target variable\n",
    "    X = filtered_data[features]\n",
    "    y = filtered_data[target]\n",
    "    \n",
    "    # Handle missing values in features\n",
    "    imputer = SimpleImputer(strategy='mean')\n",
    "    X_imputed = imputer.fit_transform(X)\n",
    "    \n",
    "    # Split the data into training and testing sets\n",
    "    X_train, X_test, y_train, y_test = train_test_split(X_imputed, y, test_size=0.2, random_state=42)\n",
    "    \n",
    "    # Train the linear regression model\n",
    "    model = LinearRegression()\n",
    "    model.fit(X_train, y_train)\n",
    "    \n",
    "    return model, imputer"
   ]
  },
  {
   "cell_type": "code",
   "execution_count": 15,
   "metadata": {},
   "outputs": [],
   "source": [
    "model, imputer = train_model()"
   ]
  },
  {
   "cell_type": "markdown",
   "metadata": {},
   "source": [
    "Run the above four cells, then run the below cell and input your player stats."
   ]
  },
  {
   "cell_type": "code",
   "execution_count": 16,
   "metadata": {},
   "outputs": [
    {
     "data": {
      "application/vnd.jupyter.widget-view+json": {
       "model_id": "16398ed0577a4041b6f219029d8f2235",
       "version_major": 2,
       "version_minor": 0
      },
      "text/plain": [
       "VBox(children=(FloatText(value=0.0, description='Weight (Wt):'), FloatText(value=0.0, description='40yd:'), Fl…"
      ]
     },
     "metadata": {},
     "output_type": "display_data"
    }
   ],
   "source": [
    "# Create widgets for player input features\n",
    "wt_input = widgets.FloatText(value=0, description='Weight (Wt):')\n",
    "yd40_input = widgets.FloatText(value=0, description='40yd:')\n",
    "vertical_input = widgets.FloatText(value=0, description='Vertical:')\n",
    "bench_input = widgets.FloatText(value=0, description='Bench:')\n",
    "broad_jump_input = widgets.FloatText(value=0, description='Broad Jump:')\n",
    "cone3_input = widgets.FloatText(value=0, description='3Cone:')\n",
    "shuttle_input = widgets.FloatText(value=0, description='Shuttle:')\n",
    "\n",
    "# Display the widgets\n",
    "input_widgets = widgets.VBox([wt_input, yd40_input, vertical_input, bench_input, broad_jump_input, cone3_input, shuttle_input])\n",
    "display(input_widgets)"
   ]
  },
  {
   "cell_type": "markdown",
   "metadata": {},
   "source": [
    "After inputting your player stats, run the following cell to receive your player's performance prediction (in PPR Fantasy points per game):"
   ]
  },
  {
   "cell_type": "code",
   "execution_count": 17,
   "metadata": {},
   "outputs": [
    {
     "name": "stdout",
     "output_type": "stream",
     "text": [
      "Predicted PPR Fantasy Points Per Game: [19.86641464]\n"
     ]
    }
   ],
   "source": [
    "def make_prediction():\n",
    "    input_stats = [wt_input.value, yd40_input.value, vertical_input.value, \n",
    "                   bench_input.value, broad_jump_input.value, cone3_input.value, shuttle_input.value]\n",
    "    \n",
    "    input_df = pd.DataFrame([input_stats], columns=['Wt', '40yd', 'Vertical', 'Bench', 'Broad Jump', '3Cone', 'Shuttle'])\n",
    "    \n",
    "    # Impute missing values\n",
    "    input_df_imputed = imputer.transform(input_df)\n",
    "\n",
    "    # Make predictions\n",
    "    predicted_points = model.predict(input_df_imputed)\n",
    "    \n",
    "    print(f\"Predicted PPR Fantasy Points Per Game: {predicted_points[0]}\")\n",
    "\n",
    "make_prediction()"
   ]
  }
 ],
 "metadata": {
  "kernelspec": {
   "display_name": ".venv",
   "language": "python",
   "name": "python3"
  },
  "language_info": {
   "codemirror_mode": {
    "name": "ipython",
    "version": 3
   },
   "file_extension": ".py",
   "mimetype": "text/x-python",
   "name": "python",
   "nbconvert_exporter": "python",
   "pygments_lexer": "ipython3",
   "version": "3.11.6"
  }
 },
 "nbformat": 4,
 "nbformat_minor": 2
}
